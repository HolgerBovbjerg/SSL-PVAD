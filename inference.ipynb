{
 "cells": [
  {
   "cell_type": "code",
   "id": "initial_id",
   "metadata": {
    "collapsed": true,
    "ExecuteTime": {
     "end_time": "2024-11-25T16:24:30.293039Z",
     "start_time": "2024-11-25T16:24:27.372696Z"
    }
   },
   "source": [
    "import yaml\n",
    "from pathlib import Path\n",
    "\n",
    "import torch\n",
    "from resemblyzer import VoiceEncoder, preprocess_wav\n",
    "import numpy as np\n",
    "from librosa.feature import melspectrogram\n",
    "\n",
    "from common.model_loader import get_model\n",
    "from common.feature_extraction import LogMelFeatureExtractor\n",
    "\n",
    "\n",
    "# path to folder with checkpoint.pth\n",
    "CHECKPOINT_PATH = Path(\"../models/pretrained/100h/PVAD1_SC_DenoisingAPC_finetune_100h_noisy/PVAD1_SC_DenoisingAPC_finetune_100h_noisy_99460/best.pt\").resolve()\n",
    "\n",
    "# Features extractor\n",
    "feature_config = {'sample_rate': 16000,\n",
    "                  'n_mels': 40,\n",
    "                  'n_fft': 400,\n",
    "                  'window_length': 400,\n",
    "                  'hop_length': 160}\n",
    "feature_extractor = LogMelFeatureExtractor(**feature_config)\n",
    "\n",
    "# test device\n",
    "device = \"cuda\" if torch.cuda.is_available() else \"cpu\"\n",
    "\n",
    "# Get model config\n",
    "yaml.add_multi_constructor('tag:yaml.org,2002:python/object/apply:torch.device',\n",
    "                            lambda loader, suffix, node: None)\n",
    "with open(str(CHECKPOINT_PATH.parent / \"settings.txt\"), \"r\", encoding=\"utf8\") as file:\n",
    "    config = yaml.load(file, Loader=yaml.FullLoader)\n",
    "model_config = config[\"hparams\"][\"model\"][\"encoder\"]\n",
    "\n",
    "# Load model architecture and pretrained weights\n",
    "def load_pretrained_model(model: torch.nn.Module, checkpoint_path: str = \"\", map_location: str = \"cpu\"):\n",
    "    checkpoint = torch.load(checkpoint_path, map_location=map_location)\n",
    "    model_state_dict = model.state_dict()\n",
    "    checkpoint_model_state_dict = checkpoint[\"model_state_dict\"]\n",
    "    model_state_dict.update(checkpoint_model_state_dict)\n",
    "    model.load_state_dict(model_state_dict)\n",
    "    print(f\"Loaded checkpoint {checkpoint_path}.\")\n",
    "    return model\n",
    "model = get_model(model_config)\n",
    "model = load_pretrained_model(model, checkpoint_path=str(CHECKPOINT_PATH), map_location=\"cpu\")\n",
    "model = model.to(device)"
   ],
   "outputs": [
    {
     "name": "stdout",
     "output_type": "stream",
     "text": [
      "Loaded checkpoint /Users/JG96XG/PycharmProjects/SelfSupervisedPVAD/models/pretrained/100h/PVAD1_SC_DenoisingAPC_finetune_100h_noisy/PVAD1_SC_DenoisingAPC_finetune_100h_noisy_99460/best.pt.\n"
     ]
    }
   ],
   "execution_count": 1
  },
  {
   "metadata": {
    "ExecuteTime": {
     "end_time": "2024-11-25T16:42:42.573170Z",
     "start_time": "2024-11-25T16:42:42.551484Z"
    }
   },
   "cell_type": "code",
   "source": [
    "speaker_encoder = VoiceEncoder(device=\"cpu\") # For speaker similarity\n",
    "\n",
    "def cos_sim(a, b):\n",
    "    return np.dot(a, b) / (np.linalg.norm(a) * np.linalg.norm(b))\n",
    "\n",
    "def compute_similarity(waveform, speaker_embedding, speaker_encoder):\n",
    "    rate = 2.5\n",
    "    min_coverage = 0.5\n",
    "    waveform_copy = waveform[0].numpy().copy()\n",
    "    wav_slices, mel_slices = speaker_encoder.compute_partial_slices(waveform_copy.size,\n",
    "                                                                    rate=rate,\n",
    "                                                                    min_coverage=min_coverage)\n",
    "    max_wave_length = wav_slices[-1].stop\n",
    "    if max_wave_length >= waveform_copy.size:\n",
    "        waveform_copy = np.pad(waveform_copy, (0, max_wave_length - waveform_copy.size), \"constant\")\n",
    "    features = melspectrogram(y=waveform_copy, sr=16000, n_fft=400, hop_length=160, n_mels=40).astype('float32').T\n",
    "    features_sliced = np.array([features[s] for s in mel_slices])\n",
    "    with torch.no_grad():\n",
    "        embedding_slices = speaker_encoder(torch.from_numpy(features_sliced)).numpy()\n",
    "\n",
    "    scores_slices = np.array([cos_sim(speaker_embedding, partial_embedding) for partial_embedding in embedding_slices])\n",
    "\n",
    "    # Scores, linearly interpolated, starting from 0.5 every time\n",
    "    frame_step = int(np.round((16000 / rate) / 160))\n",
    "    # First 160 frames are score one (160 frames window)\n",
    "    scores_linear_interpolated = np.kron(scores_slices[0], np.ones(160, dtype='float32'))\n",
    "    # The rest are linearly interpolated\n",
    "    for i, s in enumerate(scores_slices[1:]):\n",
    "        scores_linear_interpolated = np.append(scores_linear_interpolated,\n",
    "                                               np.linspace(scores_slices[i], s, frame_step, endpoint=False))\n",
    "\n",
    "    similarity = torch.from_numpy(scores_linear_interpolated)\n",
    "    return similarity"
   ],
   "id": "337cf85ef436e326",
   "outputs": [
    {
     "name": "stdout",
     "output_type": "stream",
     "text": [
      "Loaded the voice encoder model on cpu in 0.01 seconds.\n"
     ]
    }
   ],
   "execution_count": 49
  },
  {
   "metadata": {
    "ExecuteTime": {
     "end_time": "2024-11-25T16:46:31.895697Z",
     "start_time": "2024-11-25T16:46:31.568852Z"
    }
   },
   "cell_type": "code",
   "source": [
    "# Example input\n",
    "input_tensor = torch.randn(size=(1, 160000))\n",
    "reference_tensor = torch.randn(size=(1, 160000))\n",
    "\n",
    "# Compute speaker embedding of reference speech\n",
    "waveform_preprocessed = preprocess_wav(reference_tensor[0].numpy())\n",
    "speaker_embedding = torch.from_numpy(speaker_encoder.embed_speaker([waveform_preprocessed])).unsqueeze(0)"
   ],
   "id": "21c96045f2868b5f",
   "outputs": [],
   "execution_count": 82
  },
  {
   "metadata": {
    "ExecuteTime": {
     "end_time": "2024-11-25T16:49:31.466736Z",
     "start_time": "2024-11-25T16:49:31.133561Z"
    }
   },
   "cell_type": "code",
   "source": [
    "# Compute features\n",
    "features = feature_extractor(input_tensor)\n",
    "lengths = torch.tensor([features.size(-1)])\n",
    "\n",
    "# Compute similarity vector\n",
    "similarity = compute_similarity(input_tensor, speaker_embedding, speaker_encoder)[:features.size(-1)]\n",
    "\n",
    "features = features.transpose(1, 2)\n",
    "similarity = similarity.unsqueeze(0)"
   ],
   "id": "c1da32b34a4216c1",
   "outputs": [],
   "execution_count": 100
  },
  {
   "metadata": {
    "ExecuteTime": {
     "end_time": "2024-11-25T16:49:31.474142Z",
     "start_time": "2024-11-25T16:49:31.472101Z"
    }
   },
   "cell_type": "code",
   "source": [
    "print(similarity.size())\n",
    "print(features.size())"
   ],
   "id": "b34cd04b6f49654e",
   "outputs": [
    {
     "name": "stdout",
     "output_type": "stream",
     "text": [
      "torch.Size([1, 1001])\n",
      "torch.Size([1, 1001, 40])\n"
     ]
    }
   ],
   "execution_count": 101
  },
  {
   "metadata": {
    "ExecuteTime": {
     "end_time": "2024-11-25T16:51:43.231602Z",
     "start_time": "2024-11-25T16:51:43.199992Z"
    }
   },
   "cell_type": "code",
   "source": [
    "# Put input through model\n",
    "with torch.no_grad():\n",
    "    outputs = model(x=features, x_lens=lengths, similarity_scores=similarity)"
   ],
   "id": "ed717a4f0993fb25",
   "outputs": [],
   "execution_count": 106
  },
  {
   "metadata": {
    "ExecuteTime": {
     "end_time": "2024-11-25T16:52:58.766887Z",
     "start_time": "2024-11-25T16:52:58.762440Z"
    }
   },
   "cell_type": "code",
   "source": "vad_scores = torch.nn.functional.softmax(outputs[0], dim=-1)",
   "id": "24d7bf538b1828ff",
   "outputs": [],
   "execution_count": 112
  },
  {
   "metadata": {
    "ExecuteTime": {
     "end_time": "2024-11-25T16:53:09.609796Z",
     "start_time": "2024-11-25T16:53:09.517793Z"
    }
   },
   "cell_type": "code",
   "source": [
    "from matplotlib import pyplot as plt\n",
    "\n",
    "plt.plot(vad_scores[0, :, 0], label=\"no-speech\")\n",
    "plt.plot(vad_scores[0, :, 1], label=\"target-speech\")\n",
    "plt.plot(vad_scores[0, :, 2], label=\"non-target-speech\")\n",
    "plt.legend()\n",
    "plt.show()"
   ],
   "id": "616c2d9fc9d0c862",
   "outputs": [
    {
     "data": {
      "text/plain": [
       "<Figure size 640x480 with 1 Axes>"
      ],
      "image/png": "[encoded data removed]"
     },
     "metadata": {},
     "output_type": "display_data"
    }
   ],
   "execution_count": 113
  },
  {
   "metadata": {},
   "cell_type": "code",
   "outputs": [],
   "execution_count": null,
   "source": "",
   "id": "fff50a472cebe29c"
  }
 ],
 "metadata": {
  "kernelspec": {
   "display_name": "Python 3",
   "language": "python",
   "name": "python3"
  },
  "language_info": {
   "codemirror_mode": {
    "name": "ipython",
    "version": 2
   },
   "file_extension": ".py",
   "mimetype": "text/x-python",
   "name": "python",
   "nbconvert_exporter": "python",
   "pygments_lexer": "ipython2",
   "version": "2.7.6"
  }
 },
 "nbformat": 4,
 "nbformat_minor": 5
}
